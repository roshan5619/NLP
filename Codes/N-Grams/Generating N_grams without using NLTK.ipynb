{
 "cells": [
  {
   "cell_type": "markdown",
   "id": "9a770f31",
   "metadata": {},
   "source": [
    "## (Roll Nos: 6-10) Develop an NLP pipeline that performs: \n",
    "#### c) Generate Text N-Grams Without Using NLTK: Implement n-gram extraction (bi-grams, tri-grams, etc.) from a given text.      \n",
    "#### d) Ignore stopwords and punctuation in the process."
   ]
  },
  {
   "cell_type": "code",
   "execution_count": 1,
   "id": "217d133c",
   "metadata": {},
   "outputs": [],
   "source": [
    "import string #It helps us to perform string operations\n",
    "import random #ramdom used to generating random data and shuffling the data\n",
    "from itertools import islice # this helps in slicing the data "
   ]
  },
  {
   "cell_type": "code",
   "execution_count": 6,
   "id": "735b5b46",
   "metadata": {},
   "outputs": [
    {
     "data": {
      "text/plain": [
       "'Since our task is to ignore stopwords and punctuation in the process of Implementing N-gram extraction  using the text processing of 10,000 texts with a minimum of 200 characters in each text.'"
      ]
     },
     "execution_count": 6,
     "metadata": {},
     "output_type": "execute_result"
    }
   ],
   "source": [
    " \"\"\"Since our task is to ignore stopwords and punctuation in the process of Implementing N-gram extraction  using the text processing of 10,000 texts with a minimum of 200 characters in each text.\"\"\""
   ]
  },
  {
   "cell_type": "code",
   "execution_count": 8,
   "id": "ab06ffbe",
   "metadata": {},
   "outputs": [],
   "source": [
    "#Declaring the stop words manulayy  without using Natural Language Tool Kit\n",
    "stop_w = {\n",
    "    \"i\", \"me\", \"my\" , \"we\", \"our\", \"ours\",  \"you\", \"your\", \"yours\", \"he\", \"him\", \"his\",  \"she\", \"her\", \"hers\",  \"it\", \"its\", \"itself\", \"they\", \"them\", \"their\",\n",
    "    \"theirs\",  \"what\", \"which\", \"who\", \"whom\", \"this\", \"that\", \"these\", \"those\", \"am\", \"is\", \"are\", \"was\",\n",
    "    \"were\", \"be\", \"been\", \"being\", \"have\", \"has\", \"had\", \"having\", \"do\", \"does\", \"did\", \"doing\", \"a\", \"an\", \"the\", \"and\",\n",
    "    \"but\", \"if\", \"or\", \"because\", \"as\", \"until\", \"while\", \"of\", \"at\", \"by\", \"for\", \"with\",  \"before\", \"after\", \"above\", \"below\", \"to\", \"from\", \"up\", \"down\", \"in\", \"out\", \"on\",\n",
    "    \"off\", \"over\", \"under\", \"then\", \"once\", \"here\", \"there\", \"when\", \"where\", \"why\", \"how\", \"all\",\"any\", \"both\", \"each\", \"few\", \"more\", \"most\", \"other\", \"some\", \"such\", \"no\", \"nor\", \"not\", \"only\", \"own\", \"same\",\n",
    "    \"so\", \"than\", \"too\", \"very\", \"can\", \"will\", \"just\", \"now\"\n",
    "}\n",
    "\n"
   ]
  },
  {
   "cell_type": "code",
   "execution_count": 13,
   "id": "b57103e7",
   "metadata": {},
   "outputs": [],
   "source": [
    "#Let us create our own corpus of 10000 text of each 200 characters\n",
    "\n",
    "def generate_random_text(min_chars=200):\n",
    "    words = [\"Hello\", \"this\", \"is\", \"Roshan\", \"Babu\", \",\", \"pursuing\", \"my\", \"mtech\",\"in\",\"Mahindra\",\"University\",\".\",\"I\",\"am\",\"Indian\",\"Men's\",\"Throwball\",\"Player\",\"!\"] * 50\n",
    "    random.shuffle(words)\n",
    "    return \" \".join(words)[:min_chars]"
   ]
  },
  {
   "cell_type": "markdown",
   "id": "0c26b1d6",
   "metadata": {},
   "source": [
    "### Our reuired data have been generated,now we need to preprocess the data:\n",
    "#### i)lowercase the text\n",
    "#### ii)Remove punctuations\n",
    "#### iii)Split into words\n"
   ]
  },
  {
   "cell_type": "code",
   "execution_count": 14,
   "id": "ac2d34fa",
   "metadata": {},
   "outputs": [],
   "source": [
    "#we will define a function to perform the required tasks\n",
    "def preprocess_text(text):\n",
    "    text = text.lower().translate(str.maketrans('', '', string.punctuation))\n",
    "    words = text.split() #we will split the words from each text\n",
    "    return [word for word in words if word not in STOPWORDS] #will return the word that are not in stopwords after removing punctuations"
   ]
  },
  {
   "cell_type": "code",
   "execution_count": 15,
   "id": "a0c6294d",
   "metadata": {},
   "outputs": [],
   "source": [
    "#To implement N-gram extraction we will create n-grams from words\n",
    "def generate_ngrams(words, n):\n",
    "    return [tuple(words[i:i+n]) for i in range(len(words) - n + 1)]"
   ]
  },
  {
   "cell_type": "code",
   "execution_count": 16,
   "id": "302ca4dc",
   "metadata": {},
   "outputs": [],
   "source": [
    "#We need to \n",
    "def process_texts(texts, n):\n",
    "    all_ngrams = [] #will use an empty list to store all n-grams\n",
    "    for text in texts: #process each text one by one upto 200\n",
    "        words = preprocess_text(text)  # unsing the preprocess_text function we will clean the data\n",
    "        ngrams = generate_ngrams(words, n)  \n",
    "        all_ngrams.extend(ngrams)  # Store all n-grams generated\n",
    "    return all_ngrams"
   ]
  },
  {
   "cell_type": "code",
   "execution_count": 17,
   "id": "75f93a27",
   "metadata": {},
   "outputs": [],
   "source": [
    "# Generate 10,000 sample texts\n",
    "df = [generate_random_text() for _ in range(10000)]"
   ]
  },
  {
   "cell_type": "code",
   "execution_count": 20,
   "id": "e9409c6e",
   "metadata": {},
   "outputs": [],
   "source": [
    "#Let us stor ethe generated texts in csv to easy access and view\n",
    "import csv\n",
    "with open(\"generated_texts.csv\", \"w\", newline=\"\", encoding=\"utf-8\") as f:\n",
    "    writer = csv.writer(f) # will create a csv writer\n",
    "    writer.writerow([\" Generated Text\"]) #the header row will be the Text Generated\n",
    "    for text in df:\n",
    "        writer.writerow([text])  #finally in loop write the text to csv file"
   ]
  },
  {
   "cell_type": "code",
   "execution_count": 22,
   "id": "be8b3e4a",
   "metadata": {},
   "outputs": [],
   "source": [
    "#Let's check the sample dataset\n",
    "df1=pd.read_csv(\"C:/Users/rosha/Documents/M.Tech/Mahindra University/SEMESTER_2/NLP/Assignments/generated_texts.csv\")"
   ]
  },
  {
   "cell_type": "code",
   "execution_count": 32,
   "id": "3b78aae9",
   "metadata": {},
   "outputs": [
    {
     "data": {
      "text/html": [
       "<div>\n",
       "<style scoped>\n",
       "    .dataframe tbody tr th:only-of-type {\n",
       "        vertical-align: middle;\n",
       "    }\n",
       "\n",
       "    .dataframe tbody tr th {\n",
       "        vertical-align: top;\n",
       "    }\n",
       "\n",
       "    .dataframe thead th {\n",
       "        text-align: right;\n",
       "    }\n",
       "</style>\n",
       "<table border=\"1\" class=\"dataframe\">\n",
       "  <thead>\n",
       "    <tr style=\"text-align: right;\">\n",
       "      <th></th>\n",
       "      <th>Generated Text</th>\n",
       "    </tr>\n",
       "  </thead>\n",
       "  <tbody>\n",
       "    <tr>\n",
       "      <th>0</th>\n",
       "      <td>is Mahindra . am Roshan in Throwball this ! , ...</td>\n",
       "    </tr>\n",
       "    <tr>\n",
       "      <th>1</th>\n",
       "      <td>mtech Men's Roshan mtech Hello University am i...</td>\n",
       "    </tr>\n",
       "    <tr>\n",
       "      <th>2</th>\n",
       "      <td>am Babu Men's is is Throwball Indian Mahindra ...</td>\n",
       "    </tr>\n",
       "    <tr>\n",
       "      <th>3</th>\n",
       "      <td>Player Throwball my Mahindra Indian pursuing !...</td>\n",
       "    </tr>\n",
       "    <tr>\n",
       "      <th>4</th>\n",
       "      <td>University Babu pursuing Indian Babu Babu in i...</td>\n",
       "    </tr>\n",
       "  </tbody>\n",
       "</table>\n",
       "</div>"
      ],
      "text/plain": [
       "                                      Generated Text\n",
       "0  is Mahindra . am Roshan in Throwball this ! , ...\n",
       "1  mtech Men's Roshan mtech Hello University am i...\n",
       "2  am Babu Men's is is Throwball Indian Mahindra ...\n",
       "3  Player Throwball my Mahindra Indian pursuing !...\n",
       "4  University Babu pursuing Indian Babu Babu in i..."
      ]
     },
     "execution_count": 32,
     "metadata": {},
     "output_type": "execute_result"
    }
   ],
   "source": [
    "df1.head()\n"
   ]
  },
  {
   "cell_type": "code",
   "execution_count": 31,
   "id": "0c1b8e5d",
   "metadata": {},
   "outputs": [
    {
     "data": {
      "text/html": [
       "<div>\n",
       "<style scoped>\n",
       "    .dataframe tbody tr th:only-of-type {\n",
       "        vertical-align: middle;\n",
       "    }\n",
       "\n",
       "    .dataframe tbody tr th {\n",
       "        vertical-align: top;\n",
       "    }\n",
       "\n",
       "    .dataframe thead th {\n",
       "        text-align: right;\n",
       "    }\n",
       "</style>\n",
       "<table border=\"1\" class=\"dataframe\">\n",
       "  <thead>\n",
       "    <tr style=\"text-align: right;\">\n",
       "      <th></th>\n",
       "      <th>Generated Text</th>\n",
       "    </tr>\n",
       "  </thead>\n",
       "  <tbody>\n",
       "    <tr>\n",
       "      <th>9995</th>\n",
       "      <td>am mtech ! . ! my University Player Indian thi...</td>\n",
       "    </tr>\n",
       "    <tr>\n",
       "      <th>9996</th>\n",
       "      <td>my pursuing Mahindra my , Throwball in Player ...</td>\n",
       "    </tr>\n",
       "    <tr>\n",
       "      <th>9997</th>\n",
       "      <td>! Babu Hello Mahindra in University Mahindra !...</td>\n",
       "    </tr>\n",
       "    <tr>\n",
       "      <th>9998</th>\n",
       "      <td>mtech am am pursuing Roshan ! pursuing Indian ...</td>\n",
       "    </tr>\n",
       "    <tr>\n",
       "      <th>9999</th>\n",
       "      <td>is my my . , this . Hello Indian Hello Hello B...</td>\n",
       "    </tr>\n",
       "  </tbody>\n",
       "</table>\n",
       "</div>"
      ],
      "text/plain": [
       "                                         Generated Text\n",
       "9995  am mtech ! . ! my University Player Indian thi...\n",
       "9996  my pursuing Mahindra my , Throwball in Player ...\n",
       "9997  ! Babu Hello Mahindra in University Mahindra !...\n",
       "9998  mtech am am pursuing Roshan ! pursuing Indian ...\n",
       "9999  is my my . , this . Hello Indian Hello Hello B..."
      ]
     },
     "execution_count": 31,
     "metadata": {},
     "output_type": "execute_result"
    }
   ],
   "source": [
    "df1.tail()"
   ]
  },
  {
   "cell_type": "code",
   "execution_count": 44,
   "id": "a68a3e03",
   "metadata": {},
   "outputs": [],
   "source": [
    "#Let us declare the required N-gram\n",
    "n=2"
   ]
  },
  {
   "cell_type": "code",
   "execution_count": 45,
   "id": "70e2f8eb",
   "metadata": {},
   "outputs": [],
   "source": [
    "ngrams_result = process_texts(df, n) #to store the n-grams "
   ]
  },
  {
   "cell_type": "code",
   "execution_count": 46,
   "id": "ef026a8a",
   "metadata": {},
   "outputs": [],
   "source": [
    "# Open a CSV file to save n-grams\n",
    "with open(\"ngrams_output.csv\", \"w\", newline=\"\", encoding=\"utf-8\") as file:\n",
    "    writer = csv.writer(file)  \n",
    "    writer.writerow([\"N-gram\"])  #Name of Header row\n",
    "\n",
    "    # Combine each n-gram as a joined string\n",
    "    for ngram in ngrams_result:\n",
    "        writer.writerow([\" \".join(ngram)])  # Converts tuple to a string and write to csv file\n"
   ]
  },
  {
   "cell_type": "code",
   "execution_count": 47,
   "id": "04f3bc5c",
   "metadata": {},
   "outputs": [],
   "source": [
    "df2=pd.read_csv(\"C:/Users/rosha/Documents/M.Tech/Mahindra University/SEMESTER_2/NLP/Assignments/ngrams_output.csv\")"
   ]
  },
  {
   "cell_type": "code",
   "execution_count": 48,
   "id": "734ccb3b",
   "metadata": {},
   "outputs": [
    {
     "data": {
      "text/html": [
       "<div>\n",
       "<style scoped>\n",
       "    .dataframe tbody tr th:only-of-type {\n",
       "        vertical-align: middle;\n",
       "    }\n",
       "\n",
       "    .dataframe tbody tr th {\n",
       "        vertical-align: top;\n",
       "    }\n",
       "\n",
       "    .dataframe thead th {\n",
       "        text-align: right;\n",
       "    }\n",
       "</style>\n",
       "<table border=\"1\" class=\"dataframe\">\n",
       "  <thead>\n",
       "    <tr style=\"text-align: right;\">\n",
       "      <th></th>\n",
       "      <th>N-gram</th>\n",
       "    </tr>\n",
       "  </thead>\n",
       "  <tbody>\n",
       "    <tr>\n",
       "      <th>0</th>\n",
       "      <td>mahindra roshan</td>\n",
       "    </tr>\n",
       "    <tr>\n",
       "      <th>1</th>\n",
       "      <td>roshan throwball</td>\n",
       "    </tr>\n",
       "    <tr>\n",
       "      <th>2</th>\n",
       "      <td>throwball mahindra</td>\n",
       "    </tr>\n",
       "    <tr>\n",
       "      <th>3</th>\n",
       "      <td>mahindra mtech</td>\n",
       "    </tr>\n",
       "    <tr>\n",
       "      <th>4</th>\n",
       "      <td>mtech throwball</td>\n",
       "    </tr>\n",
       "  </tbody>\n",
       "</table>\n",
       "</div>"
      ],
      "text/plain": [
       "               N-gram\n",
       "0     mahindra roshan\n",
       "1    roshan throwball\n",
       "2  throwball mahindra\n",
       "3      mahindra mtech\n",
       "4     mtech throwball"
      ]
     },
     "execution_count": 48,
     "metadata": {},
     "output_type": "execute_result"
    }
   ],
   "source": [
    "df2.head()"
   ]
  },
  {
   "cell_type": "markdown",
   "id": "63f6bfa5",
   "metadata": {},
   "source": [
    "### Successfully created the Bi-gram from the texts."
   ]
  },
  {
   "cell_type": "code",
   "execution_count": 49,
   "id": "e788edcf",
   "metadata": {},
   "outputs": [
    {
     "name": "stdout",
     "output_type": "stream",
     "text": [
      "Total n-grams generated: 196526\n",
      "('mahindra', 'roshan')\n",
      "('roshan', 'throwball')\n",
      "('throwball', 'mahindra')\n",
      "('mahindra', 'mtech')\n",
      "('mtech', 'throwball')\n",
      "('throwball', 'hello')\n",
      "('hello', 'mens')\n",
      "('mens', 'indian')\n",
      "('indian', 'mtech')\n",
      "('mtech', 'roshan')\n"
     ]
    }
   ],
   "source": [
    "print(f\"Total n-grams generated: {len(ngrams_result)}\")\n",
    "for ngram in ngrams_result[:10]:\n",
    "    print(ngram)"
   ]
  },
  {
   "cell_type": "markdown",
   "id": "6ac94e54",
   "metadata": {},
   "source": [
    "# Similarly will find the Tri-grams from the texts."
   ]
  },
  {
   "cell_type": "code",
   "execution_count": 50,
   "id": "b31bf06c",
   "metadata": {},
   "outputs": [],
   "source": [
    "#Let us declare the required N-gram\n",
    "n=3"
   ]
  },
  {
   "cell_type": "code",
   "execution_count": 51,
   "id": "fd8868c8",
   "metadata": {},
   "outputs": [],
   "source": [
    "ngrams_result1 = process_texts(df, n) #to store the n-grams "
   ]
  },
  {
   "cell_type": "code",
   "execution_count": 56,
   "id": "a819f8f3",
   "metadata": {},
   "outputs": [],
   "source": [
    "# Open a CSV file to save n-grams\n",
    "with open(\"ngrams_output1.csv\", \"w\", newline=\"\", encoding=\"utf-8\") as file:\n",
    "    writer = csv.writer(file)  \n",
    "    writer.writerow([\"N-gram\"])  #Name of Header row\n",
    "\n",
    "    # Combine each n-gram as a joined string\n",
    "    for ngram in ngrams_result1:\n",
    "        writer.writerow([\" \".join(ngram)])  # Converts tuple to a string and write to csv file\n"
   ]
  },
  {
   "cell_type": "code",
   "execution_count": 57,
   "id": "d20c0cb5",
   "metadata": {},
   "outputs": [],
   "source": [
    "df3=pd.read_csv(\"C:/Users/rosha/Documents/M.Tech/Mahindra University/SEMESTER_2/NLP/Assignments/ngrams_output1.csv\")"
   ]
  },
  {
   "cell_type": "code",
   "execution_count": 58,
   "id": "3fae6a71",
   "metadata": {},
   "outputs": [
    {
     "data": {
      "text/html": [
       "<div>\n",
       "<style scoped>\n",
       "    .dataframe tbody tr th:only-of-type {\n",
       "        vertical-align: middle;\n",
       "    }\n",
       "\n",
       "    .dataframe tbody tr th {\n",
       "        vertical-align: top;\n",
       "    }\n",
       "\n",
       "    .dataframe thead th {\n",
       "        text-align: right;\n",
       "    }\n",
       "</style>\n",
       "<table border=\"1\" class=\"dataframe\">\n",
       "  <thead>\n",
       "    <tr style=\"text-align: right;\">\n",
       "      <th></th>\n",
       "      <th>N-gram</th>\n",
       "    </tr>\n",
       "  </thead>\n",
       "  <tbody>\n",
       "    <tr>\n",
       "      <th>0</th>\n",
       "      <td>mahindra roshan throwball</td>\n",
       "    </tr>\n",
       "    <tr>\n",
       "      <th>1</th>\n",
       "      <td>roshan throwball mahindra</td>\n",
       "    </tr>\n",
       "    <tr>\n",
       "      <th>2</th>\n",
       "      <td>throwball mahindra mtech</td>\n",
       "    </tr>\n",
       "    <tr>\n",
       "      <th>3</th>\n",
       "      <td>mahindra mtech throwball</td>\n",
       "    </tr>\n",
       "    <tr>\n",
       "      <th>4</th>\n",
       "      <td>mtech throwball hello</td>\n",
       "    </tr>\n",
       "  </tbody>\n",
       "</table>\n",
       "</div>"
      ],
      "text/plain": [
       "                      N-gram\n",
       "0  mahindra roshan throwball\n",
       "1  roshan throwball mahindra\n",
       "2   throwball mahindra mtech\n",
       "3   mahindra mtech throwball\n",
       "4      mtech throwball hello"
      ]
     },
     "execution_count": 58,
     "metadata": {},
     "output_type": "execute_result"
    }
   ],
   "source": [
    "df3.head()"
   ]
  },
  {
   "cell_type": "code",
   "execution_count": 59,
   "id": "6da02972",
   "metadata": {},
   "outputs": [
    {
     "name": "stdout",
     "output_type": "stream",
     "text": [
      "Total n-grams generated: 196526\n",
      "('mahindra', 'roshan', 'throwball')\n",
      "('roshan', 'throwball', 'mahindra')\n",
      "('throwball', 'mahindra', 'mtech')\n",
      "('mahindra', 'mtech', 'throwball')\n",
      "('mtech', 'throwball', 'hello')\n",
      "('throwball', 'hello', 'mens')\n",
      "('hello', 'mens', 'indian')\n",
      "('mens', 'indian', 'mtech')\n",
      "('indian', 'mtech', 'roshan')\n",
      "('mtech', 'roshan', 'hello')\n"
     ]
    }
   ],
   "source": [
    "print(f\"Total n-grams generated: {len(ngrams_result)}\")\n",
    "for ngram in ngrams_result1[:10]:\n",
    "    print(ngram)"
   ]
  },
  {
   "cell_type": "code",
   "execution_count": null,
   "id": "ace9dc37",
   "metadata": {},
   "outputs": [],
   "source": []
  }
 ],
 "metadata": {
  "kernelspec": {
   "display_name": "Python 3 (ipykernel)",
   "language": "python",
   "name": "python3"
  },
  "language_info": {
   "codemirror_mode": {
    "name": "ipython",
    "version": 3
   },
   "file_extension": ".py",
   "mimetype": "text/x-python",
   "name": "python",
   "nbconvert_exporter": "python",
   "pygments_lexer": "ipython3",
   "version": "3.9.12"
  }
 },
 "nbformat": 4,
 "nbformat_minor": 5
}
